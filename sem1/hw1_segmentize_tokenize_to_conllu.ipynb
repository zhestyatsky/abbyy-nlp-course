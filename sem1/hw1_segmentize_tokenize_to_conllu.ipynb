{
 "cells": [
  {
   "cell_type": "markdown",
   "metadata": {},
   "source": [
    "# Задание\n",
    "Используя стандартные инструменты переведите корпус htbg.txt в формат CoNLL-U. Используйте следующие колонки: 1. Номер токена в предложении 2. Токен в том виде, в котором он встретился в тексте 3. Лемма токена 4. POS-таг токена 5. Вектор грамматических значений токена 6. Целевая метка (сделайте метку везде OUT)"
   ]
  },
  {
   "cell_type": "code",
   "execution_count": 1,
   "metadata": {},
   "outputs": [],
   "source": [
    "with open(\"htbg.txt\", \"r\") as f:\n",
    "    text = f.read()"
   ]
  },
  {
   "cell_type": "code",
   "execution_count": 2,
   "metadata": {
    "scrolled": true
   },
   "outputs": [
    {
     "data": {
      "text/plain": [
       "['Аркадий и Борис Стругацкие\\n Трудно быть богом\\n\\n\\n «То были дни, когда я познал, что значит: страдать; что значит: стыдиться; что значит: отчаяться».',\n",
       " 'Пьер Абеляр\\n\\n\\n\\n «Должен вас предупредить вот о чем.',\n",
       " 'Выполняя задание, вы будете при оружии для поднятия авторитета.',\n",
       " 'Но пускать его в ход вам не разрешается ни при каких обстоятельствах.',\n",
       " 'Ни при каких обстоятельствах.']"
      ]
     },
     "execution_count": 2,
     "metadata": {},
     "output_type": "execute_result"
    }
   ],
   "source": [
    "from razdel import sentenize\n",
    "\n",
    "sentences = [s.text for s in sentenize(text)]\n",
    "sentences[:5]"
   ]
  },
  {
   "cell_type": "code",
   "execution_count": 3,
   "metadata": {},
   "outputs": [
    {
     "data": {
      "text/plain": [
       "['Аркадий',\n",
       " 'и',\n",
       " 'Борис',\n",
       " 'Стругацкие',\n",
       " 'Трудно',\n",
       " 'быть',\n",
       " 'богом',\n",
       " '«',\n",
       " 'То',\n",
       " 'были',\n",
       " 'дни',\n",
       " ',',\n",
       " 'когда',\n",
       " 'я',\n",
       " 'познал',\n",
       " ',',\n",
       " 'что',\n",
       " 'значит',\n",
       " ':',\n",
       " 'страдать',\n",
       " ';',\n",
       " 'что',\n",
       " 'значит',\n",
       " ':',\n",
       " 'стыдиться',\n",
       " ';',\n",
       " 'что',\n",
       " 'значит',\n",
       " ':',\n",
       " 'отчаяться',\n",
       " '»',\n",
       " '.']"
      ]
     },
     "execution_count": 3,
     "metadata": {},
     "output_type": "execute_result"
    }
   ],
   "source": [
    "from razdel import tokenize\n",
    "\n",
    "tokens_by_sentence = []\n",
    "for s in sentences:\n",
    "    tokens_by_sentence.append([token.text for token in tokenize(s)])\n",
    "\n",
    "tokens_by_sentence[0]"
   ]
  },
  {
   "cell_type": "code",
   "execution_count": 4,
   "metadata": {},
   "outputs": [
    {
     "data": {
      "text/plain": [
       "[('Аркадий',\n",
       "  'аркадий',\n",
       "  'PROPN',\n",
       "  'Animacy=Anim|Case=Nom|Gender=Masc|Number=Sing'),\n",
       " ('и', 'и', 'CONJ', '_'),\n",
       " ('Борис', 'борис', 'PROPN', 'Animacy=Anim|Case=Nom|Gender=Masc|Number=Sing'),\n",
       " ('Стругацкие', 'стругацкий', 'PROPN', 'Animacy=Anim|Case=Nom|Number=Ptan'),\n",
       " ('Трудно', 'трудно', 'ADV', '_'),\n",
       " ('быть', 'быть', 'VERB', 'Aspect=Imp|VerbForm=Inf'),\n",
       " ('богом', 'бог', 'NOUN', 'Animacy=Anim|Case=Ins|Gender=Masc|Number=Sing'),\n",
       " ('«', '«', 'PUNCT', '_'),\n",
       " ('То', 'то', 'CONJ', '_'),\n",
       " ('были',\n",
       "  'быть',\n",
       "  'VERB',\n",
       "  'Aspect=Imp|Mood=Ind|Number=Plur|Tense=Past|VerbForm=Fin'),\n",
       " ('дни', 'день', 'NOUN', 'Animacy=Inan|Case=Acc|Gender=Masc|Number=Plur'),\n",
       " (',', ',', 'PUNCT', '_'),\n",
       " ('когда', 'когда', 'CONJ', '_'),\n",
       " ('я', 'я', 'PRON', 'Case=Nom|Number=Sing|Person=1'),\n",
       " ('познал',\n",
       "  'познать',\n",
       "  'VERB',\n",
       "  'Aspect=Perf|Gender=Masc|Mood=Ind|Number=Sing|Tense=Past|VerbForm=Fin'),\n",
       " (',', ',', 'PUNCT', '_'),\n",
       " ('что', 'что', 'CONJ', '_'),\n",
       " ('значит', 'значит', 'CONJ', '_'),\n",
       " (':', ':', 'PUNCT', '_'),\n",
       " ('страдать', 'страдать', 'VERB', 'Aspect=Imp|VerbForm=Inf'),\n",
       " (';', ';', 'PUNCT', '_'),\n",
       " ('что', 'что', 'CONJ', '_'),\n",
       " ('значит', 'значит', 'CONJ', '_'),\n",
       " (':', ':', 'PUNCT', '_'),\n",
       " ('стыдиться', 'стыдиться', 'VERB', 'Aspect=Imp|VerbForm=Inf'),\n",
       " (';', ';', 'PUNCT', '_'),\n",
       " ('что', 'что', 'CONJ', '_'),\n",
       " ('значит', 'значит', 'CONJ', '_'),\n",
       " (':', ':', 'PUNCT', '_'),\n",
       " ('отчаяться', 'отчаяться', 'VERB', 'Aspect=Perf|VerbForm=Inf'),\n",
       " ('»', '»', 'PUNCT', '_'),\n",
       " ('.', '.', 'PUNCT', '_')]"
      ]
     },
     "execution_count": 4,
     "metadata": {},
     "output_type": "execute_result"
    }
   ],
   "source": [
    "from pymorphy2 import MorphAnalyzer\n",
    "from russian_tagsets import converters\n",
    "\n",
    "morph_analyzer = MorphAnalyzer()\n",
    "to_ud = converters.converter('opencorpora-int', 'ud14')\n",
    "\n",
    "token_properties_by_sentence = []\n",
    "for tokens in tokens_by_sentence:\n",
    "    token_properties_by_sentence.append([])\n",
    "    for token in tokens:\n",
    "        parse = morph_analyzer.parse(token)[0]\n",
    "        ud_tag = to_ud(str(parse.tag))\n",
    "        pos = ud_tag.split()[0]\n",
    "        grammemes = ud_tag.split()[1]\n",
    "        token_properties_by_sentence[-1].append((token, parse.normal_form, pos, grammemes))\n",
    "\n",
    "token_properties_by_sentence[0]"
   ]
  },
  {
   "cell_type": "code",
   "execution_count": 5,
   "metadata": {},
   "outputs": [],
   "source": [
    "with open('htbg.conllu', 'w') as f:\n",
    "    for sentence, tokens in zip(sentences, token_properties_by_sentence):\n",
    "        print(\"# text = {}\".format(sentence), file=f)\n",
    "        for i, token in enumerate(tokens):\n",
    "            properties = [str(i + 1)]\n",
    "            properties.extend(token)\n",
    "            properties.append(\"OUT\")\n",
    "            print(\"\\t\".join(properties), file=f)\n",
    "        print(file=f)"
   ]
  }
 ],
 "metadata": {
  "kernelspec": {
   "display_name": "Python 3",
   "language": "python",
   "name": "python3"
  },
  "language_info": {
   "codemirror_mode": {
    "name": "ipython",
    "version": 3
   },
   "file_extension": ".py",
   "mimetype": "text/x-python",
   "name": "python",
   "nbconvert_exporter": "python",
   "pygments_lexer": "ipython3",
   "version": "3.8.5"
  }
 },
 "nbformat": 4,
 "nbformat_minor": 4
}
